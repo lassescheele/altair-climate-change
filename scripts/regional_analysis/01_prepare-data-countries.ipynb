{
 "cells": [
  {
   "cell_type": "markdown",
   "metadata": {},
   "source": [
    "## Libraries"
   ]
  },
  {
   "cell_type": "code",
   "execution_count": null,
   "metadata": {},
   "outputs": [],
   "source": [
    "import sys\n",
    "import os\n",
    "import datetime as dt\n",
    "import numpy as np\n",
    "import pandas as pd\n",
    "import geopandas as gpd\n",
    "import altair as alt\n",
    "from vega_datasets import data"
   ]
  },
  {
   "cell_type": "code",
   "execution_count": null,
   "metadata": {},
   "outputs": [],
   "source": [
    "if not 'mainDir' in globals():\n",
    "    mainDir = os.path.dirname(os.getcwd()) # Get parent dir: os.path.dirname()\n",
    "print(mainDir)"
   ]
  },
  {
   "cell_type": "code",
   "execution_count": null,
   "metadata": {},
   "outputs": [],
   "source": [
    "dir_input = os.path.join(mainDir,'data','raw')\n",
    "dir_output = os.path.join(mainDir,'data','processed')"
   ]
  },
  {
   "cell_type": "markdown",
   "metadata": {},
   "source": [
    "## Settings"
   ]
  },
  {
   "cell_type": "code",
   "execution_count": null,
   "metadata": {},
   "outputs": [],
   "source": [
    "first_relevant_year = 1850\n",
    "last_relevant_year = 2019"
   ]
  },
  {
   "cell_type": "markdown",
   "metadata": {},
   "source": [
    "## Prepare Berkeley data"
   ]
  },
  {
   "cell_type": "code",
   "execution_count": null,
   "metadata": {},
   "outputs": [],
   "source": [
    "data_source = 'berkeley'"
   ]
  },
  {
   "cell_type": "code",
   "execution_count": null,
   "metadata": {},
   "outputs": [],
   "source": [
    "list_relevant_iso = [\n",
    "    'CAN',\n",
    "    'USA',\n",
    "    'NIC',\n",
    "    'BRA',\n",
    "    'ARG',\n",
    "    'GRL',\n",
    "    'ISL',\n",
    "    'DEU',\n",
    "    'ESP',\n",
    "    'EGY',\n",
    "    'MRT',\n",
    "    'MDG',\n",
    "    'ZAF',\n",
    "    'COD',\n",
    "    'SAU',\n",
    "    'RUS',\n",
    "    'CHN',\n",
    "    'JPN',\n",
    "    'IND',\n",
    "    'IDN',\n",
    "    'AUS',\n",
    "    'NZL',\n",
    "]"
   ]
  },
  {
   "cell_type": "markdown",
   "metadata": {},
   "source": [
    "### Read shapes"
   ]
  },
  {
   "cell_type": "code",
   "execution_count": null,
   "metadata": {},
   "outputs": [],
   "source": [
    "gdf = gpd.read_file(os.path.join(dir_input,\"countries.geojson\"))\n",
    "gdf.shape"
   ]
  },
  {
   "cell_type": "code",
   "execution_count": null,
   "metadata": {},
   "outputs": [],
   "source": [
    "gdf = gdf.rename(columns={'ADMIN':'Country'})\n",
    "if len(list_relevant_iso) > 0:\n",
    "    gdf = gdf.loc[gdf['ISO_A3'].isin(list_relevant_iso)]\n",
    "gdf.shape"
   ]
  },
  {
   "cell_type": "code",
   "execution_count": null,
   "metadata": {},
   "outputs": [],
   "source": [
    "list_relevant_countries = gdf['Country'].unique().tolist()"
   ]
  },
  {
   "cell_type": "markdown",
   "metadata": {},
   "source": [
    "### Read climate data"
   ]
  },
  {
   "cell_type": "code",
   "execution_count": null,
   "metadata": {},
   "outputs": [],
   "source": [
    "df = pd.read_csv(os.path.join(dir_input,f\"{data_source}_regional_average_temperatures\",\"GlobalLandTemperaturesByCountry.csv\"))\n",
    "df.shape"
   ]
  },
  {
   "cell_type": "code",
   "execution_count": null,
   "metadata": {},
   "outputs": [],
   "source": [
    "df = df[['dt','AverageTemperature','Country']]"
   ]
  },
  {
   "cell_type": "code",
   "execution_count": null,
   "metadata": {},
   "outputs": [],
   "source": [
    "df['dt'] = pd.to_datetime(df['dt'], format=\"%Y-%m-%d\")\n",
    "df['Year'] = df['dt'].dt.year\n",
    "df['Month'] = df['dt'].dt.month\n",
    "df = df.loc[(df['Year']>=first_relevant_year) & (df['Year']<=last_relevant_year)]\n",
    "df.shape\n",
    "df.head(3)"
   ]
  },
  {
   "cell_type": "code",
   "execution_count": null,
   "metadata": {},
   "outputs": [],
   "source": [
    "country_names_dict = {\n",
    "    'Antigua And Barbuda':'Antigua and Barbuda',\n",
    "    'Bahamas':'The Bahamas',\n",
    "    'Bosnia And Herzegovina':'Bosnia and Herzegovina',\n",
    "    'Burma':'Myanmar',\n",
    "    'Congo':'Republic of Congo',\n",
    "    'Congo (Democratic Republic Of The)':'Democratic Republic of the Congo',\n",
    "    \"Côte D'Ivoire\":'Ivory Coast',\n",
    "    'Falkland Islands (Islas Malvinas)':'Falkland Islands',\n",
    "    'Federated States Of Micronesia':'Federated States of Micronesia',\n",
    "    'French Southern And Antarctic Lands':'French Southern and Antarctic Lands',\n",
    "    'Heard Island And Mcdonald Islands':'Heard Island and McDonald Islands',\n",
    "    'Hong Kong':'Hong Kong S.A.R.',\n",
    "    'Isle Of Man':'Isle of Man',\n",
    "    'Macau':'Macao S.A.R',\n",
    "    'Palestina':'Palestine',\n",
    "    'Saint Barthélemy':'Saint Barthelemy',\n",
    "    'Saint Kitts And Nevis':'Saint Kitts and Nevis',\n",
    "    'Saint Pierre And Miquelon':'Saint Pierre and Miquelon',\n",
    "    'Saint Vincent And The Grenadines':'Saint Vincent and the Grenadines',\n",
    "    'Sao Tome And Principe':'Sao Tome and Principe',\n",
    "    'Serbia':'Republic of Serbia',\n",
    "    'South Georgia And The South Sandwich Isla':'South Georgia and South Sandwich Islands',\n",
    "    'Tanzania':'United Republic of Tanzania',\n",
    "    'Timor Leste':'East Timor',\n",
    "    'Trinidad And Tobago':'Trinidad and Tobago',\n",
    "    'Turks And Caicas Islands':'Turks and Caicos Islands',\n",
    "    'United States':'United States of America',\n",
    "    'Virgin Islands':'United States Virgin Islands',\n",
    "    'Åland':'Aland'\n",
    "}"
   ]
  },
  {
   "cell_type": "code",
   "execution_count": null,
   "metadata": {},
   "outputs": [],
   "source": [
    "for key in country_names_dict.keys():\n",
    "    #print(key, country_names_dict[key])\n",
    "    df.loc[df['Country']==key,'Country'] = country_names_dict[key]"
   ]
  },
  {
   "cell_type": "code",
   "execution_count": null,
   "metadata": {},
   "outputs": [],
   "source": [
    "if len(list_relevant_countries) > 0:\n",
    "    df = df.loc[df['Country'].isin(list_relevant_countries)]\n",
    "df.shape"
   ]
  },
  {
   "cell_type": "code",
   "execution_count": null,
   "metadata": {},
   "outputs": [],
   "source": [
    "df_berkeley = df[['Country','Year','Month','AverageTemperature']].copy()"
   ]
  },
  {
   "cell_type": "markdown",
   "metadata": {},
   "source": [
    "## Prepare DWD data"
   ]
  },
  {
   "cell_type": "code",
   "execution_count": null,
   "metadata": {},
   "outputs": [],
   "source": [
    "data_source = 'dwd'"
   ]
  },
  {
   "cell_type": "code",
   "execution_count": null,
   "metadata": {},
   "outputs": [],
   "source": [
    "first_relevant_year = 1850"
   ]
  },
  {
   "cell_type": "code",
   "execution_count": null,
   "metadata": {},
   "outputs": [],
   "source": [
    "list_relevant_iso = [\n",
    "    'DEU',\n",
    "]"
   ]
  },
  {
   "cell_type": "markdown",
   "metadata": {},
   "source": [
    "### Read climate data"
   ]
  },
  {
   "cell_type": "code",
   "execution_count": null,
   "metadata": {},
   "outputs": [],
   "source": [
    "for iter_month in range(1,13):\n",
    "    df_temp = pd.read_csv(\n",
    "        os.path.join(dir_input,f\"{data_source}_regional_average_temperatures\",f\"regional_averages_tm_{str(iter_month).zfill(2)}.txt\"),\n",
    "        skiprows=1, sep=\";\", skipinitialspace=True, \n",
    "    )\n",
    "    df_temp = df_temp[['Jahr','Monat','Deutschland']].rename(columns={'Jahr':'Year','Monat':'Month','Deutschland':'AverageTemperature'})\n",
    "    if iter_month == 1:\n",
    "        df = df_temp.copy()\n",
    "    else:\n",
    "        df = df.append(df_temp, ignore_index=True)\n",
    "df['Country'] = 'Germany'\n",
    "df"
   ]
  },
  {
   "cell_type": "code",
   "execution_count": null,
   "metadata": {},
   "outputs": [],
   "source": [
    "df[['Year','Month']] = df[['Year','Month']].astype(int)\n",
    "df = df.loc[(df['Year']>=first_relevant_year) & (df['Year']<=last_relevant_year)].copy()\n",
    "df['AverageTemperature'] = df['AverageTemperature'].astype(float)\n",
    "df"
   ]
  },
  {
   "cell_type": "code",
   "execution_count": null,
   "metadata": {},
   "outputs": [],
   "source": [
    "df_dwd = df[['Country','Year','Month','AverageTemperature']].sort_values(['Country','Year','Month'], ascending=[True,True,True])"
   ]
  },
  {
   "cell_type": "code",
   "execution_count": null,
   "metadata": {},
   "outputs": [],
   "source": [
    "df_final = df_berkeley.merge(df_dwd, on=['Country','Year','Month'], how='outer', suffixes=['','_temp'])\n",
    "df_final = df_final.sort_values(['Country','Year','Month'], ascending=[True,True,True])\n",
    "df_final"
   ]
  },
  {
   "cell_type": "code",
   "execution_count": null,
   "metadata": {},
   "outputs": [],
   "source": [
    "df_final.loc[\n",
    "    df_final['AverageTemperature_temp'].notnull(),\n",
    "    'AverageTemperature'\n",
    "] = df_final.loc[\n",
    "    df_final['AverageTemperature_temp'].notnull(),\n",
    "    'AverageTemperature_temp'\n",
    "]"
   ]
  },
  {
   "cell_type": "markdown",
   "metadata": {},
   "source": [
    "## Write preprocessed data"
   ]
  },
  {
   "cell_type": "code",
   "execution_count": null,
   "metadata": {},
   "outputs": [],
   "source": [
    "df_final.to_pickle(os.path.join(dir_output,\"regional_average_temperatures.pkl\"))"
   ]
  },
  {
   "cell_type": "code",
   "execution_count": null,
   "metadata": {},
   "outputs": [],
   "source": []
  }
 ],
 "metadata": {
  "kernel_info": {
   "name": "py37_geo2020q1"
  },
  "kernelspec": {
   "display_name": "py37_geo2020Q1",
   "language": "python",
   "name": "py37_geo2020q1"
  },
  "language_info": {
   "codemirror_mode": {
    "name": "ipython",
    "version": 3
   },
   "file_extension": ".py",
   "mimetype": "text/x-python",
   "name": "python",
   "nbconvert_exporter": "python",
   "pygments_lexer": "ipython3",
   "version": "3.7.6"
  },
  "nteract": {
   "version": "0.12.3"
  },
  "toc-showcode": false,
  "toc-showmarkdowntxt": false
 },
 "nbformat": 4,
 "nbformat_minor": 4
}
