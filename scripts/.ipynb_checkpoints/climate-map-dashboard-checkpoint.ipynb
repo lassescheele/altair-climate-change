{
 "cells": [
  {
   "cell_type": "markdown",
   "metadata": {},
   "source": [
    "## Libraries"
   ]
  },
  {
   "cell_type": "code",
   "execution_count": 269,
   "metadata": {},
   "outputs": [],
   "source": [
    "import sys\n",
    "import os\n",
    "import datetime as dt\n",
    "import numpy as np\n",
    "import pandas as pd\n",
    "import geopandas as gpd\n",
    "import altair as alt"
   ]
  },
  {
   "cell_type": "code",
   "execution_count": 270,
   "metadata": {},
   "outputs": [
    {
     "name": "stdout",
     "output_type": "stream",
     "text": [
      "/Users/lassescheele/Documents/Private/altair-climate-change\n"
     ]
    }
   ],
   "source": [
    "if not 'mainDir' in globals():\n",
    "    mainDir = os.path.dirname(os.getcwd()) # Get parent dir: os.path.dirname()\n",
    "print(mainDir)"
   ]
  },
  {
   "cell_type": "markdown",
   "metadata": {},
   "source": [
    "## Settings"
   ]
  },
  {
   "cell_type": "code",
   "execution_count": 271,
   "metadata": {},
   "outputs": [],
   "source": [
    "first_year = 1950\n",
    "last_year = 2013\n",
    "start_reference_period = 1961\n",
    "end_reference_period = 1990"
   ]
  },
  {
   "cell_type": "code",
   "execution_count": 272,
   "metadata": {},
   "outputs": [],
   "source": [
    "dir_input = os.path.join(mainDir,'data','raw')\n",
    "dir_output = os.path.join(mainDir,'data','processed')"
   ]
  },
  {
   "cell_type": "markdown",
   "metadata": {},
   "source": [
    "## Read data"
   ]
  },
  {
   "cell_type": "markdown",
   "metadata": {},
   "source": [
    "### Read shapes"
   ]
  },
  {
   "cell_type": "code",
   "execution_count": 273,
   "metadata": {},
   "outputs": [],
   "source": [
    "gdf = gpd.read_file(os.path.join(dir_input,\"countries.geojson\"))"
   ]
  },
  {
   "cell_type": "code",
   "execution_count": 274,
   "metadata": {},
   "outputs": [],
   "source": [
    "gdf = gdf.rename(columns={'ADMIN':'Country'})"
   ]
  },
  {
   "cell_type": "markdown",
   "metadata": {},
   "source": [
    "### Read climate data"
   ]
  },
  {
   "cell_type": "code",
   "execution_count": 275,
   "metadata": {},
   "outputs": [
    {
     "data": {
      "text/plain": [
       "(577462, 4)"
      ]
     },
     "execution_count": 275,
     "metadata": {},
     "output_type": "execute_result"
    }
   ],
   "source": [
    "df = pd.read_csv(os.path.join(dir_input,\"GlobalLandTemperaturesByCountry.csv\"))\n",
    "df.shape"
   ]
  },
  {
   "cell_type": "code",
   "execution_count": 276,
   "metadata": {},
   "outputs": [],
   "source": [
    "df = df[['dt','AverageTemperature','Country']]"
   ]
  },
  {
   "cell_type": "code",
   "execution_count": 277,
   "metadata": {},
   "outputs": [
    {
     "data": {
      "text/html": [
       "<div>\n",
       "<style scoped>\n",
       "    .dataframe tbody tr th:only-of-type {\n",
       "        vertical-align: middle;\n",
       "    }\n",
       "\n",
       "    .dataframe tbody tr th {\n",
       "        vertical-align: top;\n",
       "    }\n",
       "\n",
       "    .dataframe thead th {\n",
       "        text-align: right;\n",
       "    }\n",
       "</style>\n",
       "<table border=\"1\" class=\"dataframe\">\n",
       "  <thead>\n",
       "    <tr style=\"text-align: right;\">\n",
       "      <th></th>\n",
       "      <th>dt</th>\n",
       "      <th>AverageTemperature</th>\n",
       "      <th>Country</th>\n",
       "      <th>Year</th>\n",
       "      <th>Month</th>\n",
       "    </tr>\n",
       "  </thead>\n",
       "  <tbody>\n",
       "    <tr>\n",
       "      <th>2474</th>\n",
       "      <td>1950-01-01</td>\n",
       "      <td>-5.611</td>\n",
       "      <td>Åland</td>\n",
       "      <td>1950</td>\n",
       "      <td>1</td>\n",
       "    </tr>\n",
       "    <tr>\n",
       "      <th>2475</th>\n",
       "      <td>1950-02-01</td>\n",
       "      <td>-1.804</td>\n",
       "      <td>Åland</td>\n",
       "      <td>1950</td>\n",
       "      <td>2</td>\n",
       "    </tr>\n",
       "    <tr>\n",
       "      <th>2476</th>\n",
       "      <td>1950-03-01</td>\n",
       "      <td>0.090</td>\n",
       "      <td>Åland</td>\n",
       "      <td>1950</td>\n",
       "      <td>3</td>\n",
       "    </tr>\n",
       "  </tbody>\n",
       "</table>\n",
       "</div>"
      ],
      "text/plain": [
       "             dt  AverageTemperature Country  Year  Month\n",
       "2474 1950-01-01              -5.611   Åland  1950      1\n",
       "2475 1950-02-01              -1.804   Åland  1950      2\n",
       "2476 1950-03-01               0.090   Åland  1950      3"
      ]
     },
     "execution_count": 277,
     "metadata": {},
     "output_type": "execute_result"
    }
   ],
   "source": [
    "df['dt'] = pd.to_datetime(df['dt'], format=\"%Y-%m-%d\")\n",
    "df = df.loc[(df['dt'].dt.year>=first_year) & (df['dt'].dt.year<=last_year)]\n",
    "df['Year'] = df['dt'].dt.year\n",
    "df['Month'] = df['dt'].dt.month\n",
    "df.shape\n",
    "df.head(3)"
   ]
  },
  {
   "cell_type": "code",
   "execution_count": 278,
   "metadata": {},
   "outputs": [],
   "source": [
    "country_names_dict = {\n",
    "    'Antigua And Barbuda':'Antigua and Barbuda',\n",
    "    'Bahamas':'The Bahamas',\n",
    "    'Bosnia And Herzegovina':'Bosnia and Herzegovina',\n",
    "    'Burma':'Myanmar',\n",
    "    'Congo':'Republic of Congo',\n",
    "    'Congo (Democratic Republic Of The)':'Democratic Republic of the Congo',\n",
    "    \"Côte D'Ivoire\":'Ivory Coast',\n",
    "    'Falkland Islands (Islas Malvinas)':'Falkland Islands',\n",
    "    'Federated States Of Micronesia':'Federated States of Micronesia',\n",
    "    'French Southern And Antarctic Lands':'French Southern and Antarctic Lands',\n",
    "    'Heard Island And Mcdonald Islands':'Heard Island and McDonald Islands',\n",
    "    'Hong Kong':'Hong Kong S.A.R.',\n",
    "    'Isle Of Man':'Isle of Man',\n",
    "    'Macau':'Macao S.A.R',\n",
    "    'Palestina':'Palestine',\n",
    "    'Saint Barthélemy':'Saint Barthelemy',\n",
    "    'Saint Kitts And Nevis':'Saint Kitts and Nevis',\n",
    "    'Saint Pierre And Miquelon':'Saint Pierre and Miquelon',\n",
    "    'Saint Vincent And The Grenadines':'Saint Vincent and the Grenadines',\n",
    "    'Sao Tome And Principe':'Sao Tome and Principe',\n",
    "    'Serbia':'Republic of Serbia',\n",
    "    'South Georgia And The South Sandwich Isla':'South Georgia and South Sandwich Islands',\n",
    "    'Tanzania':'United Republic of Tanzania',\n",
    "    'Timor Leste':'East Timor',\n",
    "    'Trinidad And Tobago':'Trinidad and Tobago',\n",
    "    'Turks And Caicas Islands':'Turks and Caicos Islands',\n",
    "    'United States':'United States of America',\n",
    "    'Virgin Islands':'United States Virgin Islands',\n",
    "    'Åland':'Aland'\n",
    "}"
   ]
  },
  {
   "cell_type": "code",
   "execution_count": 279,
   "metadata": {},
   "outputs": [],
   "source": [
    "for key in country_names_dict.keys():\n",
    "    #print(key, country_names_dict[key])\n",
    "    df.loc[df['Country']==key,'Country'] = country_names_dict[key]"
   ]
  },
  {
   "cell_type": "markdown",
   "metadata": {},
   "source": [
    "## Prepare data"
   ]
  },
  {
   "cell_type": "markdown",
   "metadata": {},
   "source": [
    "### Heatmap data"
   ]
  },
  {
   "cell_type": "code",
   "execution_count": 281,
   "metadata": {},
   "outputs": [
    {
     "data": {
      "text/html": [
       "<div>\n",
       "<style scoped>\n",
       "    .dataframe tbody tr th:only-of-type {\n",
       "        vertical-align: middle;\n",
       "    }\n",
       "\n",
       "    .dataframe tbody tr th {\n",
       "        vertical-align: top;\n",
       "    }\n",
       "\n",
       "    .dataframe thead th {\n",
       "        text-align: right;\n",
       "    }\n",
       "</style>\n",
       "<table border=\"1\" class=\"dataframe\">\n",
       "  <thead>\n",
       "    <tr style=\"text-align: right;\">\n",
       "      <th></th>\n",
       "      <th></th>\n",
       "      <th>AverageTemperature</th>\n",
       "    </tr>\n",
       "    <tr>\n",
       "      <th>Country</th>\n",
       "      <th>Month</th>\n",
       "      <th></th>\n",
       "    </tr>\n",
       "  </thead>\n",
       "  <tbody>\n",
       "    <tr>\n",
       "      <th rowspan=\"5\" valign=\"top\">Afghanistan</th>\n",
       "      <th>1</th>\n",
       "      <td>0.730100</td>\n",
       "    </tr>\n",
       "    <tr>\n",
       "      <th>2</th>\n",
       "      <td>2.992767</td>\n",
       "    </tr>\n",
       "    <tr>\n",
       "      <th>3</th>\n",
       "      <td>8.727800</td>\n",
       "    </tr>\n",
       "    <tr>\n",
       "      <th>4</th>\n",
       "      <td>14.828133</td>\n",
       "    </tr>\n",
       "    <tr>\n",
       "      <th>5</th>\n",
       "      <td>20.260133</td>\n",
       "    </tr>\n",
       "    <tr>\n",
       "      <th>...</th>\n",
       "      <th>...</th>\n",
       "      <td>...</td>\n",
       "    </tr>\n",
       "    <tr>\n",
       "      <th rowspan=\"5\" valign=\"top\">Zimbabwe</th>\n",
       "      <th>8</th>\n",
       "      <td>18.463633</td>\n",
       "    </tr>\n",
       "    <tr>\n",
       "      <th>9</th>\n",
       "      <td>21.972900</td>\n",
       "    </tr>\n",
       "    <tr>\n",
       "      <th>10</th>\n",
       "      <td>23.935867</td>\n",
       "    </tr>\n",
       "    <tr>\n",
       "      <th>11</th>\n",
       "      <td>24.438900</td>\n",
       "    </tr>\n",
       "    <tr>\n",
       "      <th>12</th>\n",
       "      <td>23.849533</td>\n",
       "    </tr>\n",
       "  </tbody>\n",
       "</table>\n",
       "<p>2916 rows × 1 columns</p>\n",
       "</div>"
      ],
      "text/plain": [
       "                   AverageTemperature\n",
       "Country     Month                    \n",
       "Afghanistan 1                0.730100\n",
       "            2                2.992767\n",
       "            3                8.727800\n",
       "            4               14.828133\n",
       "            5               20.260133\n",
       "...                               ...\n",
       "Zimbabwe    8               18.463633\n",
       "            9               21.972900\n",
       "            10              23.935867\n",
       "            11              24.438900\n",
       "            12              23.849533\n",
       "\n",
       "[2916 rows x 1 columns]"
      ]
     },
     "execution_count": 281,
     "metadata": {},
     "output_type": "execute_result"
    }
   ],
   "source": [
    "df_reference = df.loc[(df['Year']>=start_reference_period) & (df['Year']<=end_reference_period)]\n",
    "df_reference = pd.DataFrame(df_reference.groupby(['Country','Month'])['AverageTemperature'].mean())\n",
    "df_reference"
   ]
  },
  {
   "cell_type": "code",
   "execution_count": 282,
   "metadata": {},
   "outputs": [
    {
     "name": "stdout",
     "output_type": "stream",
     "text": [
      "10 of 243 countries\n",
      "20 of 243 countries\n",
      "30 of 243 countries\n",
      "40 of 243 countries\n",
      "50 of 243 countries\n",
      "60 of 243 countries\n",
      "70 of 243 countries\n",
      "80 of 243 countries\n",
      "90 of 243 countries\n",
      "100 of 243 countries\n",
      "110 of 243 countries\n",
      "120 of 243 countries\n",
      "130 of 243 countries\n",
      "140 of 243 countries\n",
      "150 of 243 countries\n",
      "160 of 243 countries\n",
      "170 of 243 countries\n",
      "180 of 243 countries\n",
      "190 of 243 countries\n",
      "200 of 243 countries\n",
      "210 of 243 countries\n",
      "220 of 243 countries\n",
      "230 of 243 countries\n",
      "240 of 243 countries\n"
     ]
    }
   ],
   "source": [
    "list_countries = df['Country'].unique().tolist()\n",
    "country_counter = 1\n",
    "for country in list_countries:\n",
    "    if country_counter % 10 == 0:\n",
    "        print(f\"{country_counter} of {len(list_countries)} countries\")\n",
    "    for month in range(1,13):\n",
    "        df.loc[\n",
    "            (df['Country']==country) &\n",
    "            (df['Month']==month),\n",
    "            'AverageTemperature_ref'] = df.loc[\n",
    "            (df['Country']==country) &\n",
    "            (df['Month']==month),\n",
    "            'AverageTemperature'] - df_reference.loc[(country,month),'AverageTemperature']\n",
    "    country_counter += 1\n",
    "    "
   ]
  },
  {
   "cell_type": "code",
   "execution_count": 283,
   "metadata": {},
   "outputs": [],
   "source": [
    "#df.loc[df['Country'].str.lower().str.contains('sudan')]"
   ]
  },
  {
   "cell_type": "code",
   "execution_count": 284,
   "metadata": {},
   "outputs": [
    {
     "data": {
      "text/plain": [
       "<matplotlib.axes._subplots.AxesSubplot at 0x13c15ac50>"
      ]
     },
     "execution_count": 284,
     "metadata": {},
     "output_type": "execute_result"
    },
    {
     "data": {
      "image/png": "[encoded data removed]",
      "text/plain": [
       "<Figure size 432x288 with 1 Axes>"
      ]
     },
     "metadata": {
      "needs_background": "light"
     },
     "output_type": "display_data"
    }
   ],
   "source": [
    "df.loc[df['Country']=='United States of America'].plot(x='dt',y='AverageTemperature_ref')"
   ]
  },
  {
   "cell_type": "markdown",
   "metadata": {},
   "source": [
    "### Map data"
   ]
  },
  {
   "cell_type": "code",
   "execution_count": 285,
   "metadata": {},
   "outputs": [],
   "source": [
    "df_stats_countries = pd.DataFrame(df.loc[df['Year']>end_reference_period].groupby('Country')['AverageTemperature_ref'].mean()).reset_index()"
   ]
  },
  {
   "cell_type": "code",
   "execution_count": 286,
   "metadata": {},
   "outputs": [],
   "source": [
    "gdf = pd.merge(\n",
    "    gdf,\n",
    "    df_stats_countries,\n",
    "    on='Country', how='left'\n",
    ").rename(columns={'AverageTemperature_ref':'AverageTemperature_sinceRef'})\n",
    "#gdf"
   ]
  },
  {
   "cell_type": "markdown",
   "metadata": {},
   "source": [
    "## Plot data"
   ]
  },
  {
   "cell_type": "code",
   "execution_count": 287,
   "metadata": {},
   "outputs": [
    {
     "data": {
      "text/plain": [
       "DataTransformerRegistry.enable('default')"
      ]
     },
     "execution_count": 287,
     "metadata": {},
     "output_type": "execute_result"
    }
   ],
   "source": [
    "#alt.data_transformers.enable('data_server') # data will be served in the background rather than embedded in the chart specification\n",
    "#alt.data_transformers.enable('json')        # data will be serialized to disk and referenced by URL\n",
    "alt.data_transformers.enable('default')    # data will be fully embedded in the notebook"
   ]
  },
  {
   "cell_type": "code",
   "execution_count": 288,
   "metadata": {},
   "outputs": [
    {
     "data": {
      "text/plain": [
       "DataTransformerRegistry.enable('default')"
      ]
     },
     "execution_count": 288,
     "metadata": {},
     "output_type": "execute_result"
    }
   ],
   "source": [
    "alt.data_transformers.disable_max_rows()"
   ]
  },
  {
   "cell_type": "code",
   "execution_count": null,
   "metadata": {},
   "outputs": [],
   "source": [
    "#df['AverageTemperature_ref'].quantile([0.05,.25,.5,.75,.95]).values.tolist()"
   ]
  },
  {
   "cell_type": "code",
   "execution_count": 289,
   "metadata": {},
   "outputs": [],
   "source": [
    "domain = [-5,-.5,0,.5,5]\n",
    "range_ = ['#0571b0','#92c5de','#f7f7f7','#f4a582','#ca0020']"
   ]
  },
  {
   "cell_type": "code",
   "execution_count": 290,
   "metadata": {},
   "outputs": [],
   "source": [
    "sphere = alt.sphere()\n",
    "graticule = alt.graticule()\n",
    "\n",
    "source_map = gdf\n",
    "source_heatmap = df[['Year','Month','Country','AverageTemperature_ref']]#.melt('index', var_name='category', value_name='value')\n",
    "\n",
    "width = 900*1.25\n",
    "height = 450*1.25\n",
    "\n",
    "default_country = \"Germany\"\n",
    "selector = alt.selection(\n",
    "    type=\"single\", fields=['Country'], init={\"Country\": default_country}\n",
    ")\n",
    "\n",
    "color = alt.condition(\n",
    "    selector,\n",
    "    alt.value('#FF00E8'), #alt.Color('idle_start_average_duration:Q'),\n",
    "    #alt.value('black')\n",
    "    alt.Color('AverageTemperature_sinceRef:Q', title='Temperature difference (°C)'),\n",
    ")\n",
    "\n",
    "background = alt.layer(\n",
    "    alt.Chart(sphere).mark_geoshape(fill='#D5F5FF'),\n",
    "    alt.Chart(graticule).mark_geoshape(stroke='white', strokeWidth=0.5),\n",
    "    alt.Chart(source_map).mark_geoshape(fill='lightgrey', stroke='grey', strokeWidth=0.5)\n",
    ").project(\n",
    "    'naturalEarth1'\n",
    ").properties(\n",
    "    width=width, height=height\n",
    ")\n",
    "\n",
    "choropleth = alt.Chart(\n",
    "    source_map, title=f'Average monthly temperature change for {end_reference_period+1}-{last_year} compared to {start_reference_period}-{end_reference_period}'\n",
    ").mark_geoshape(\n",
    "    stroke='grey', strokeWidth=0.5\n",
    ").encode(\n",
    "    color=color,\n",
    "    tooltip=[\n",
    "        'Country:N',\n",
    "        alt.Tooltip('AverageTemperature_sinceRef:Q', title=f'Average monthly temperature change for {end_reference_period+1}-{last_year} compared to {start_reference_period}-{end_reference_period} (°C)', format='+.2f'),\n",
    "    ]\n",
    ").project(\n",
    "    'naturalEarth1'\n",
    ").properties(\n",
    "    width=width, height=height\n",
    ").add_selection(\n",
    "    selector\n",
    ")\n",
    "\n",
    "heatmap = alt.Chart(\n",
    "    source_heatmap, title=f'Average monthly temperature {first_year}-{last_year} (compared to the period {start_reference_period}-{end_reference_period})'\n",
    ").mark_rect(\n",
    "    #stroke='grey',\n",
    "    #strokeWidth=0.5,\n",
    ").encode(\n",
    "    y=alt.Y('Month:O', sort=alt.EncodingSortField('Month', order='ascending')),\n",
    "    x=alt.X('Year:O', sort=alt.EncodingSortField('Year', order='ascending')),\n",
    "    color=alt.Color(\n",
    "        'AverageTemperature_ref:Q',\n",
    "        scale=alt.Scale(domain=domain, range=range_),\n",
    "        #scale=alt.Scale(type='sqrt', scheme=\"redyellowblue\", order=\"descending\"), # domain=[max_value, -max_value]\n",
    "        title='Temperature difference (°C)'\n",
    "    ),\n",
    "    tooltip=[\n",
    "        'Country:N','Year:O','Month:O',\n",
    "        alt.Tooltip('AverageTemperature_ref:Q', title=f'Average monthly temperature change compared to {start_reference_period}-{end_reference_period} (°C)', format='+.2f'),\n",
    "    ]\n",
    ").add_selection(\n",
    "    selector\n",
    ").transform_filter(\n",
    "    selector\n",
    ").properties(\n",
    "    #width=height/((last_year-first_year)/12),\n",
    "    #height=height\n",
    "    width=width,\n",
    "    height=width/((last_year-first_year)/12),\n",
    ")\n",
    "\n",
    "chart = ((background + choropleth) & heatmap).configure_legend(orient='right').configure_view(stroke=None)\n",
    "#chart = (heatmap & (background + choropleth)).configure_legend(orient='right').configure_view(stroke=None)\n",
    "#chart"
   ]
  },
  {
   "cell_type": "code",
   "execution_count": 291,
   "metadata": {},
   "outputs": [
    {
     "name": "stdout",
     "output_type": "stream",
     "text": [
      "world_temperature_1950-2013_ref1961-1990_map_heatmap\n"
     ]
    }
   ],
   "source": [
    "file_name = f\"world_temperature_{first_year}-{last_year}_ref{start_reference_period}-{end_reference_period}_map_heatmap\"\n",
    "print(file_name)"
   ]
  },
  {
   "cell_type": "code",
   "execution_count": 292,
   "metadata": {},
   "outputs": [],
   "source": [
    "chart.save(os.path.join(mainDir,'plots',file_name+'.html'))\n",
    "#chart.save(os.path.join(mainDir,'plots',file_name+'.png'), scale_factor=1.5)"
   ]
  },
  {
   "cell_type": "code",
   "execution_count": null,
   "metadata": {},
   "outputs": [],
   "source": []
  }
 ],
 "metadata": {
  "kernelspec": {
   "display_name": "py37_geo2020Q1",
   "language": "python",
   "name": "py37_geo2020q1"
  },
  "language_info": {
   "codemirror_mode": {
    "name": "ipython",
    "version": 3
   },
   "file_extension": ".py",
   "mimetype": "text/x-python",
   "name": "python",
   "nbconvert_exporter": "python",
   "pygments_lexer": "ipython3",
   "version": "3.7.6"
  },
  "toc-showcode": false,
  "toc-showmarkdowntxt": false
 },
 "nbformat": 4,
 "nbformat_minor": 4
}
