{
  "cells": [
    {
      "cell_type": "markdown",
      "source": [
        "## Libraries"
      ],
      "metadata": {}
    },
    {
      "cell_type": "code",
      "source": [
        "import sys\n",
        "import os\n",
        "import datetime as dt\n",
        "import numpy as np\n",
        "import pandas as pd\n",
        "import geopandas as gpd\n",
        "import altair as alt\n",
        "from vega_datasets import data"
      ],
      "outputs": [],
      "execution_count": null,
      "metadata": {}
    },
    {
      "cell_type": "code",
      "source": [
        "if not 'mainDir' in globals():\n",
        "    mainDir = os.path.dirname(os.getcwd()) # Get parent dir: os.path.dirname()\n",
        "print(mainDir)"
      ],
      "outputs": [],
      "execution_count": null,
      "metadata": {}
    },
    {
      "cell_type": "code",
      "source": [
        "dir_input = os.path.join(mainDir,'data','raw')\n",
        "dir_output = os.path.join(mainDir,'data','processed')"
      ],
      "outputs": [],
      "execution_count": null,
      "metadata": {}
    },
    {
      "cell_type": "markdown",
      "source": [
        "## Settings"
      ],
      "metadata": {}
    },
    {
      "cell_type": "code",
      "source": [
        "first_relevant_year = 1850\n",
        "\n",
        "start_reference_period = 1961\n",
        "end_reference_period = 1990"
      ],
      "outputs": [],
      "execution_count": null,
      "metadata": {}
    },
    {
      "cell_type": "code",
      "source": [
        "list_relevant_iso = [\n",
        "    'CAN',\n",
        "    'USA',\n",
        "    'NIC',\n",
        "    'BRA',\n",
        "    'ARG',\n",
        "    'GRL',\n",
        "    'ISL',\n",
        "    'DEU',\n",
        "    'ESP',\n",
        "    'EGY',\n",
        "    'MRT',\n",
        "    'MDG',\n",
        "    'ZAF',\n",
        "    'COD',\n",
        "    'SAU',\n",
        "    'RUS',\n",
        "    'CHN',\n",
        "    'JPN',\n",
        "    'IND',\n",
        "    'IDN',\n",
        "    'AUS',\n",
        "    'NZL',\n",
        "    #'ATF',\n",
        "]"
      ],
      "outputs": [],
      "execution_count": null,
      "metadata": {}
    },
    {
      "cell_type": "markdown",
      "source": [
        "## Read data"
      ],
      "metadata": {}
    },
    {
      "cell_type": "markdown",
      "source": [
        "### Read shapes"
      ],
      "metadata": {}
    },
    {
      "cell_type": "code",
      "source": [
        "gdf = gpd.read_file(os.path.join(dir_input,\"countries.geojson\"))\n",
        "gdf.shape"
      ],
      "outputs": [],
      "execution_count": null,
      "metadata": {}
    },
    {
      "cell_type": "code",
      "source": [
        "gdf = gdf.rename(columns={'ADMIN':'Country'})\n",
        "if len(list_relevant_iso) > 0:\n",
        "    gdf = gdf.loc[gdf['ISO_A3'].isin(list_relevant_iso)]\n",
        "gdf.shape"
      ],
      "outputs": [],
      "execution_count": null,
      "metadata": {}
    },
    {
      "cell_type": "code",
      "source": [
        "list_relevant_countries = gdf['Country'].unique().tolist()"
      ],
      "outputs": [],
      "execution_count": null,
      "metadata": {}
    },
    {
      "cell_type": "markdown",
      "source": [
        "### Read climate data"
      ],
      "metadata": {}
    },
    {
      "cell_type": "code",
      "source": [
        "df = pd.read_csv(os.path.join(dir_input,\"GlobalLandTemperaturesByCountry.csv\"))\n",
        "df.shape"
      ],
      "outputs": [],
      "execution_count": null,
      "metadata": {}
    },
    {
      "cell_type": "code",
      "source": [
        "df = df[['dt','AverageTemperature','Country']]"
      ],
      "outputs": [],
      "execution_count": null,
      "metadata": {}
    },
    {
      "cell_type": "code",
      "source": [
        "df['dt'] = pd.to_datetime(df['dt'], format=\"%Y-%m-%d\")\n",
        "df = df.loc[(df['dt'].dt.year>=first_relevant_year)]\n",
        "df['Year'] = df['dt'].dt.year\n",
        "df['Month'] = df['dt'].dt.month\n",
        "df.shape\n",
        "df.head(3)"
      ],
      "outputs": [],
      "execution_count": null,
      "metadata": {}
    },
    {
      "cell_type": "code",
      "source": [
        "country_names_dict = {\n",
        "    'Antigua And Barbuda':'Antigua and Barbuda',\n",
        "    'Bahamas':'The Bahamas',\n",
        "    'Bosnia And Herzegovina':'Bosnia and Herzegovina',\n",
        "    'Burma':'Myanmar',\n",
        "    'Congo':'Republic of Congo',\n",
        "    'Congo (Democratic Republic Of The)':'Democratic Republic of the Congo',\n",
        "    \"Côte D'Ivoire\":'Ivory Coast',\n",
        "    'Falkland Islands (Islas Malvinas)':'Falkland Islands',\n",
        "    'Federated States Of Micronesia':'Federated States of Micronesia',\n",
        "    'French Southern And Antarctic Lands':'French Southern and Antarctic Lands',\n",
        "    'Heard Island And Mcdonald Islands':'Heard Island and McDonald Islands',\n",
        "    'Hong Kong':'Hong Kong S.A.R.',\n",
        "    'Isle Of Man':'Isle of Man',\n",
        "    'Macau':'Macao S.A.R',\n",
        "    'Palestina':'Palestine',\n",
        "    'Saint Barthélemy':'Saint Barthelemy',\n",
        "    'Saint Kitts And Nevis':'Saint Kitts and Nevis',\n",
        "    'Saint Pierre And Miquelon':'Saint Pierre and Miquelon',\n",
        "    'Saint Vincent And The Grenadines':'Saint Vincent and the Grenadines',\n",
        "    'Sao Tome And Principe':'Sao Tome and Principe',\n",
        "    'Serbia':'Republic of Serbia',\n",
        "    'South Georgia And The South Sandwich Isla':'South Georgia and South Sandwich Islands',\n",
        "    'Tanzania':'United Republic of Tanzania',\n",
        "    'Timor Leste':'East Timor',\n",
        "    'Trinidad And Tobago':'Trinidad and Tobago',\n",
        "    'Turks And Caicas Islands':'Turks and Caicos Islands',\n",
        "    'United States':'United States of America',\n",
        "    'Virgin Islands':'United States Virgin Islands',\n",
        "    'Åland':'Aland'\n",
        "}"
      ],
      "outputs": [],
      "execution_count": null,
      "metadata": {}
    },
    {
      "cell_type": "code",
      "source": [
        "for key in country_names_dict.keys():\n",
        "    #print(key, country_names_dict[key])\n",
        "    df.loc[df['Country']==key,'Country'] = country_names_dict[key]"
      ],
      "outputs": [],
      "execution_count": null,
      "metadata": {}
    },
    {
      "cell_type": "code",
      "source": [
        "if len(list_relevant_countries) > 0:\n",
        "    df = df.loc[df['Country'].isin(list_relevant_countries)]\n",
        "df.shape"
      ],
      "outputs": [],
      "execution_count": null,
      "metadata": {}
    },
    {
      "cell_type": "markdown",
      "source": [
        "## Prepare data"
      ],
      "metadata": {}
    },
    {
      "cell_type": "markdown",
      "source": [
        "### Heatmap data"
      ],
      "metadata": {}
    },
    {
      "cell_type": "code",
      "source": [
        "df_reference = df.loc[(df['Year']>=start_reference_period) & (df['Year']<=end_reference_period)]\n",
        "df_reference = pd.DataFrame(df_reference.groupby(['Country','Month'])['AverageTemperature'].mean())\n",
        "#df_reference"
      ],
      "outputs": [],
      "execution_count": null,
      "metadata": {}
    },
    {
      "cell_type": "code",
      "source": [
        "country_counter = 1\n",
        "for country in list_relevant_countries:\n",
        "    if country_counter % 10 == 0:\n",
        "        print(f\"{country_counter} of {len(list_relevant_countries)} countries\")\n",
        "    for month in range(1,13):\n",
        "        df.loc[\n",
        "            (df['Country']==country) &\n",
        "            (df['Month']==month),\n",
        "            'AverageTemperature_ref'] = df.loc[\n",
        "            (df['Country']==country) &\n",
        "            (df['Month']==month),\n",
        "            'AverageTemperature'] - df_reference.loc[(country,month),'AverageTemperature']\n",
        "    country_counter += 1"
      ],
      "outputs": [],
      "execution_count": null,
      "metadata": {}
    },
    {
      "cell_type": "markdown",
      "source": [
        "### Map data (centroids)"
      ],
      "metadata": {}
    },
    {
      "cell_type": "code",
      "source": [
        "df_stats_countries = pd.DataFrame(df.loc[df['Year']>end_reference_period].groupby('Country')['AverageTemperature_ref'].mean()).reset_index()"
      ],
      "outputs": [],
      "execution_count": null,
      "metadata": {}
    },
    {
      "cell_type": "code",
      "source": [
        "gdf = pd.merge(\n",
        "    gdf,\n",
        "    df_stats_countries,\n",
        "    on='Country', how='left'\n",
        ").rename(columns={'AverageTemperature_ref':'AverageTemperature_sinceRef'})\n",
        "gdf['centroid'] = gdf.centroid\n",
        "gdf['longitude'] = gdf.centroid.x\n",
        "gdf['latitude'] = gdf.centroid.y\n",
        "#gdf"
      ],
      "outputs": [],
      "execution_count": null,
      "metadata": {}
    },
    {
      "cell_type": "code",
      "source": [
        "gdf.loc[gdf['ISO_A2']=='US',['longitude','latitude']] = [-98.5,39.5]\n",
        "gdf.loc[gdf['ISO_A2']=='CA',['longitude','latitude']] = [-96.5,54.5]\n",
        "#gdf"
      ],
      "outputs": [],
      "execution_count": null,
      "metadata": {}
    },
    {
      "cell_type": "markdown",
      "source": [
        "## Create dashboard"
      ],
      "metadata": {}
    },
    {
      "cell_type": "code",
      "source": [
        "alt.data_transformers.enable('default')\n",
        "alt.data_transformers.disable_max_rows()"
      ],
      "outputs": [],
      "execution_count": null,
      "metadata": {}
    },
    {
      "cell_type": "markdown",
      "source": [
        "### Plot settings"
      ],
      "metadata": {}
    },
    {
      "cell_type": "code",
      "source": [
        "# Set time range\n",
        "first_analysis_year = 1850\n",
        "last_analysis_year = 2013"
      ],
      "outputs": [],
      "execution_count": null,
      "metadata": {}
    },
    {
      "cell_type": "code",
      "source": [
        "# Set size\n",
        "width_map = 700\n",
        "height_map = 350\n",
        "width_plots = width_map*1.5\n",
        "height_plots = width_plots/((last_analysis_year-first_analysis_year)/12)"
      ],
      "outputs": [],
      "execution_count": null,
      "metadata": {}
    },
    {
      "cell_type": "code",
      "source": [
        "# Set general colors\n",
        "color_background = 'white' # '#FFFCF2'\n",
        "color_titles = 'black' # '#4f4f4f'\n",
        "color_labels = '#4f4f4f' # '#6e6e6e'\n",
        "\n",
        "# Set colors background map\n",
        "fill_sphere = '#D5F5FF' # '#7FD1D8'\n",
        "stroke_color_graticule = 'white'\n",
        "stroke_width_graticule = 1.0\n",
        "fill_countries = '#DED9D8' # '#DED5D2' # 'lightgrey'\n",
        "stroke_color_countries = '#978984' # 'grey'\n",
        "\n",
        "# Set colors points\n",
        "stroke_color_points = color_titles\n",
        "color_points_selected = '#FF00E8'\n",
        "color_points_not_selected = '#bbb1ae' # stroke_color_countries # '#2ECC71'\n",
        "size_points_selected = 400\n",
        "size_points_not_selected = 200\n",
        "stroke_width_points_selected = 4\n",
        "stroke_width_points_not_selected = 3\n",
        "\n",
        "# Set colors heatmap\n",
        "domain_heatmap = [-5,-.5,0,.5,5]\n",
        "range_heatmap = ['#0571b0','#92c5de','#f7f7f7','#f4a582','#ca0020']\n",
        "color_background_heatmap = fill_countries # '#e0e0e0'\n",
        "\n",
        "# Set colors trends\n",
        "color_trend_selected = color_points_selected # '#FF5733'\n",
        "color_trends_not_selected = color_points_not_selected # color_labels\n",
        "stroke_width_trends_selected = 2.5\n",
        "stroke_width_trends_not_selected = 1.25\n",
        "opacity_trends_not_selected = 0.2\n",
        "color_zero_line = 'grey' # '#008FFF'\n",
        "stroke_width_zero_line = 1.2"
      ],
      "outputs": [],
      "execution_count": null,
      "metadata": {}
    },
    {
      "cell_type": "code",
      "source": [
        "# Set selection\n",
        "default_country = \"Germany\"\n",
        "selector = alt.selection(type=\"single\", fields=['Country'], init={\"Country\": default_country}, empty='none')"
      ],
      "outputs": [],
      "execution_count": null,
      "metadata": {}
    },
    {
      "cell_type": "markdown",
      "source": [
        "### Create annotations"
      ],
      "metadata": {}
    },
    {
      "cell_type": "code",
      "source": [
        "# Create title\n",
        "title_text = [\"Climate change is a global phenomenon\"]\n",
        "source_title = pd.DataFrame({'text': title_text})\n",
        "title = alt.Chart(\n",
        "    source_title\n",
        ").mark_text(\n",
        "    size=16,\n",
        "    fontWeight='bold',\n",
        "    align='center',\n",
        "    color=color_titles,\n",
        "    dx=width_plots/2,\n",
        ").encode(\n",
        "    text=\"text:N\",\n",
        ")\n",
        "# Create credentials\n",
        "credentials_text = [\"Source: Berkeley Earth | Visualization: Lasse Scheele (@LasSchee)\"]\n",
        "source_credentials = pd.DataFrame({'text': credentials_text})\n",
        "credentials = alt.Chart(\n",
        "    source_credentials\n",
        ").mark_text(\n",
        "    size=11,\n",
        "    align='right',\n",
        "    dx=width_plots,\n",
        "    color=color_labels\n",
        ").encode(\n",
        "    text=\"text:N\",\n",
        ")\n",
        "credentials_text = [\"Source: Berkeley Earth (berkeleyearth.org)\"]\n",
        "source_credentials = pd.DataFrame({'text': credentials_text})\n",
        "credentials1 = alt.Chart(\n",
        "    source_credentials\n",
        ").mark_text(\n",
        "    size=11,\n",
        "    align='right',\n",
        "    dx=width_plots,\n",
        "    dy=-5,\n",
        "    color=color_labels\n",
        ").encode(\n",
        "    text=\"text:N\",\n",
        ")\n",
        "credentials_text = [\"Visualization: Lasse Scheele (@LasSchee)\"]\n",
        "source_credentials = pd.DataFrame({'text': credentials_text})\n",
        "credentials2 = alt.Chart(\n",
        "    source_credentials\n",
        ").mark_text(\n",
        "    size=11,\n",
        "    align='right',\n",
        "    dx=width_plots,\n",
        "    dy=10,\n",
        "    color=color_labels\n",
        ").encode(\n",
        "    text=\"text:N\",\n",
        ")\n",
        "#title + credentials\n",
        "#title + credentials1 + credentials2"
      ],
      "outputs": [],
      "execution_count": null,
      "metadata": {}
    },
    {
      "cell_type": "markdown",
      "source": [
        "### Create map"
      ],
      "metadata": {}
    },
    {
      "cell_type": "code",
      "source": [
        "# Create basemap\n",
        "source_sphere = alt.sphere()\n",
        "source_graticule = alt.graticule()\n",
        "source_map = alt.topo_feature(data.world_110m.url, 'countries')\n",
        "background = alt.layer(\n",
        "    alt.Chart(source_sphere).mark_geoshape(fill=fill_sphere),\n",
        "    alt.Chart(source_graticule).mark_geoshape(stroke=stroke_color_graticule, strokeWidth=stroke_width_graticule),\n",
        "    alt.Chart(source_map).mark_geoshape(fill=fill_countries, stroke=stroke_color_countries, strokeWidth=0.5),\n",
        ").project(\n",
        "    'naturalEarth1'\n",
        ").properties(\n",
        "    width=width_map, height=height_map,\n",
        "    #title=\"Map of the available countries\"\n",
        ")\n",
        "# Add points\n",
        "source_points = gdf[['Country','longitude','latitude']]\n",
        "color_points = alt.condition(selector,alt.value(color_points_selected),alt.value(color_points_not_selected))\n",
        "size_points = alt.condition(selector,alt.value(size_points_selected),alt.value(size_points_not_selected))\n",
        "strokeWidth_points = alt.condition(selector,alt.value(stroke_width_points_selected),alt.value(stroke_width_points_not_selected))\n",
        "points = alt.Chart(\n",
        "    source_points\n",
        ").mark_circle(\n",
        "    stroke=stroke_color_points,\n",
        "    opacity=1.0\n",
        ").encode(\n",
        "    longitude='longitude:Q',\n",
        "    latitude='latitude:Q',\n",
        "    color=color_points,\n",
        "    size=size_points,\n",
        "    strokeWidth=strokeWidth_points,\n",
        "    tooltip=['Country:N']\n",
        ").add_selection(\n",
        "    selector\n",
        ")\n",
        "#(background + points)"
      ],
      "outputs": [],
      "execution_count": null,
      "metadata": {}
    },
    {
      "cell_type": "markdown",
      "source": [
        "### Create line plots"
      ],
      "metadata": {}
    },
    {
      "cell_type": "code",
      "source": [
        "# Create trends\n",
        "source_trend = df.loc[\n",
        "    df['Year'].isin(list(range(first_analysis_year,last_analysis_year+1)))\n",
        "].groupby(['Country','Year'])['AverageTemperature_ref'].mean().reset_index()\n",
        "domain_trends = list_relevant_countries\n",
        "range_trends = [color_trend_selected for x in list_relevant_countries]\n",
        "color_trends = alt.condition(\n",
        "    selector,\n",
        "    alt.Color('Country:N', scale=alt.Scale(domain=domain_trends, range=range_trends), legend=None),\n",
        "    alt.value(color_trends_not_selected))\n",
        "strokeWidth_trends = alt.condition(selector,alt.value(stroke_width_trends_selected),alt.value(stroke_width_trends_not_selected))\n",
        "opacity_trends = alt.condition(selector,alt.value(1),alt.value(opacity_trends_not_selected))\n",
        "zero_line = alt.Chart(\n",
        "    pd.DataFrame({'AverageTemperature_ref': [0]})\n",
        ").mark_rule(\n",
        "    color=color_zero_line,\n",
        "    strokeWidth=stroke_width_zero_line\n",
        ").encode(\n",
        "    y='AverageTemperature_ref:Q'\n",
        ")\n",
        "\n",
        "trends = alt.Chart(\n",
        "    source_trend,\n",
        "    title=f'Average yearly temperature {first_analysis_year}-{last_analysis_year} (compared to the period {start_reference_period}-{end_reference_period})'\n",
        ").mark_line(interpolate='basis'\n",
        ").encode(\n",
        "    x=alt.X('Year:O', sort=alt.EncodingSortField('Year', order='ascending')),\n",
        "    y=alt.Y('AverageTemperature_ref:Q', title='°C'),\n",
        "    color=color_trends,\n",
        "    opacity=opacity_trends,\n",
        "    strokeWidth=strokeWidth_trends,\n",
        "    #size=alt.Size('AverageTemperature_ref:Q', legend=None),\n",
        "    tooltip=[\n",
        "        'Country:N','Year:Q',\n",
        "        alt.Tooltip(\n",
        "            'AverageTemperature_ref:Q',\n",
        "            title=f'Average monthly temperature change compared to {start_reference_period}-{end_reference_period} (°C)',\n",
        "            format='+.2f'\n",
        "        ),\n",
        "    ]\n",
        ").add_selection(\n",
        "    selector\n",
        ").properties(\n",
        "    width=width_plots,\n",
        "    height=height_plots*1.4,\n",
        ")\n",
        "#(zero_line + trends)"
      ],
      "outputs": [],
      "execution_count": null,
      "metadata": {}
    },
    {
      "cell_type": "markdown",
      "source": [
        "### Create heatmap"
      ],
      "metadata": {}
    },
    {
      "cell_type": "code",
      "source": [
        "# Create heatmap\n",
        "source_heatmap = df.loc[\n",
        "    df['Year'].isin(list(range(first_analysis_year,last_analysis_year+1))),\n",
        "    ['Year','Month','Country','AverageTemperature_ref']\n",
        "]\n",
        "heatmap_background = alt.Chart(\n",
        "    pd.DataFrame(index=pd.MultiIndex.from_product([range(first_analysis_year,last_analysis_year+1), range(1,13)],names=['Year', 'Month'])).reset_index()\n",
        ").mark_rect(\n",
        "    color=color_background_heatmap,\n",
        "    strokeWidth=0.5,\n",
        ").encode(\n",
        "    y=alt.Y('Month:O', sort=alt.EncodingSortField('Month', order='ascending')),\n",
        "    x=alt.X('Year:O', sort=alt.EncodingSortField('Year', order='ascending')),\n",
        ").properties(\n",
        "    width=width_plots,\n",
        "    height=height_plots,\n",
        ")\n",
        "\n",
        "heatmap = alt.Chart(\n",
        "    source_heatmap,\n",
        "    title=f'Average monthly temperature {first_analysis_year}-{last_analysis_year} (compared to the period {start_reference_period}-{end_reference_period})'\n",
        ").mark_rect(\n",
        "    #stroke='grey',\n",
        "    #strokeWidth=0.5,\n",
        ").encode(\n",
        "    y=alt.Y('Month:O', sort=alt.EncodingSortField('Month', order='ascending')),\n",
        "    x=alt.X('Year:O', sort=alt.EncodingSortField('Year', order='ascending')),\n",
        "    color=alt.Color(\n",
        "        'AverageTemperature_ref:Q',\n",
        "        scale=alt.Scale(domain=domain_heatmap, range=range_heatmap),\n",
        "        #scale=alt.Scale(type='sqrt', scheme=\"redyellowblue\", order=\"descending\"), # domain=[max_value, -max_value]\n",
        "        title='Temperature difference (°C)'\n",
        "    ),\n",
        "    tooltip=[\n",
        "        'Country:N','Year:O','Month:O',\n",
        "        alt.Tooltip(\n",
        "            'AverageTemperature_ref:Q',\n",
        "            title=f'Average monthly temperature change compared to {start_reference_period}-{end_reference_period} (°C)',\n",
        "            format='+.2f'),\n",
        "    ]\n",
        ").add_selection(\n",
        "    selector\n",
        ").transform_filter(\n",
        "    selector\n",
        ").properties(\n",
        "    width=width_plots,\n",
        "    height=height_plots,\n",
        ")\n",
        "#(heatmap_background + heatmap)"
      ],
      "outputs": [],
      "execution_count": null,
      "metadata": {}
    },
    {
      "cell_type": "markdown",
      "source": [
        "### Create final chart"
      ],
      "metadata": {}
    },
    {
      "cell_type": "code",
      "source": [
        "chart = alt.vconcat(\n",
        "    #title + credentials,\n",
        "    title + credentials1 + credentials2,\n",
        "    (background + points),\n",
        "    (zero_line + trends),\n",
        "    (heatmap_background + heatmap),\n",
        "    #credentials,\n",
        "    center=True\n",
        ").configure(\n",
        "    background=color_background,\n",
        ").configure_axis(\n",
        "    titleColor=color_titles,\n",
        "    labelColor=color_labels,\n",
        ").configure_legend(\n",
        "    orient='bottom',\n",
        "    titleColor=color_titles,\n",
        "    labelColor=color_labels\n",
        ").configure_title(\n",
        "    color=color_titles,\n",
        ").configure_view(\n",
        "    stroke=None\n",
        ")\n",
        "chart"
      ],
      "outputs": [],
      "execution_count": null,
      "metadata": {}
    },
    {
      "cell_type": "code",
      "source": [
        "file_name = f\"countries_centroids_tavg_{first_analysis_year}-{last_analysis_year}_ref{start_reference_period}-{end_reference_period}\"\n",
        "print(file_name)"
      ],
      "outputs": [],
      "execution_count": null,
      "metadata": {}
    },
    {
      "cell_type": "code",
      "source": [
        "chart.save(os.path.join(mainDir,'docs',file_name+'.html'))\n",
        "chart.save(os.path.join(mainDir,'plots',file_name+'.png'), scale_factor=2.5)"
      ],
      "outputs": [],
      "execution_count": null,
      "metadata": {}
    },
    {
      "cell_type": "code",
      "source": [],
      "outputs": [],
      "execution_count": null,
      "metadata": {}
    }
  ],
  "metadata": {
    "kernelspec": {
      "name": "py37_geo2020q1",
      "language": "python",
      "display_name": "py37_geo2020Q1"
    },
    "language_info": {
      "name": "python",
      "version": "3.7.6",
      "mimetype": "text/x-python",
      "codemirror_mode": {
        "name": "ipython",
        "version": 3
      },
      "pygments_lexer": "ipython3",
      "nbconvert_exporter": "python",
      "file_extension": ".py"
    },
    "toc-showcode": false,
    "toc-showmarkdowntxt": false,
    "kernel_info": {
      "name": "py37_geo2020q1"
    },
    "nteract": {
      "version": "0.12.3"
    }
  },
  "nbformat": 4,
  "nbformat_minor": 4
}